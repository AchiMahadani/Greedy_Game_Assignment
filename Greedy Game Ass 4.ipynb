{
 "cells": [
  {
   "cell_type": "code",
   "execution_count": 1,
   "id": "2492d340",
   "metadata": {},
   "outputs": [],
   "source": [
    "import pandas as pd"
   ]
  },
  {
   "cell_type": "code",
   "execution_count": 2,
   "id": "25270273",
   "metadata": {},
   "outputs": [],
   "source": [
    "voting_df = pd.read_csv('4_voting_data.csv')"
   ]
  },
  {
   "cell_type": "code",
   "execution_count": 3,
   "id": "7359b772",
   "metadata": {},
   "outputs": [
    {
     "data": {
      "text/html": [
       "<div>\n",
       "<style scoped>\n",
       "    .dataframe tbody tr th:only-of-type {\n",
       "        vertical-align: middle;\n",
       "    }\n",
       "\n",
       "    .dataframe tbody tr th {\n",
       "        vertical-align: top;\n",
       "    }\n",
       "\n",
       "    .dataframe thead th {\n",
       "        text-align: right;\n",
       "    }\n",
       "</style>\n",
       "<table border=\"1\" class=\"dataframe\">\n",
       "  <thead>\n",
       "    <tr style=\"text-align: right;\">\n",
       "      <th></th>\n",
       "      <th>adv_id</th>\n",
       "      <th>offer_id</th>\n",
       "      <th>app_id</th>\n",
       "      <th>state</th>\n",
       "      <th>comment</th>\n",
       "      <th>ip</th>\n",
       "      <th>country_code</th>\n",
       "      <th>created_at</th>\n",
       "    </tr>\n",
       "  </thead>\n",
       "  <tbody>\n",
       "    <tr>\n",
       "      <th>0</th>\n",
       "      <td>5ba99349-0e56-4a15-96d8-6708f21ae548</td>\n",
       "      <td>254610</td>\n",
       "      <td>rupiyo</td>\n",
       "      <td>UP</td>\n",
       "      <td>NaN</td>\n",
       "      <td>152.58.197.244</td>\n",
       "      <td>IN</td>\n",
       "      <td>2024-10-17 08:38:41.178855+00:00</td>\n",
       "    </tr>\n",
       "    <tr>\n",
       "      <th>1</th>\n",
       "      <td>d016c006-f927-48bc-987d-40a2f3f4648b</td>\n",
       "      <td>258019</td>\n",
       "      <td>rupiyo</td>\n",
       "      <td>UP</td>\n",
       "      <td>NaN</td>\n",
       "      <td>152.59.191.187</td>\n",
       "      <td>IN</td>\n",
       "      <td>2024-10-20 03:50:17.578827+00:00</td>\n",
       "    </tr>\n",
       "    <tr>\n",
       "      <th>2</th>\n",
       "      <td>d016c006-f927-48bc-987d-40a2f3f4648b</td>\n",
       "      <td>258634</td>\n",
       "      <td>rupiyo</td>\n",
       "      <td>UP</td>\n",
       "      <td>NaN</td>\n",
       "      <td>152.58.129.31</td>\n",
       "      <td>IN</td>\n",
       "      <td>2024-10-21 15:52:12.762049+00:00</td>\n",
       "    </tr>\n",
       "    <tr>\n",
       "      <th>3</th>\n",
       "      <td>ed359404-3d8a-4f3e-9d4e-38e6ef575254</td>\n",
       "      <td>258019</td>\n",
       "      <td>rupiyo</td>\n",
       "      <td>UP</td>\n",
       "      <td>NaN</td>\n",
       "      <td>152.59.191.187</td>\n",
       "      <td>IN</td>\n",
       "      <td>2024-10-20 03:50:17.578827+00:00</td>\n",
       "    </tr>\n",
       "    <tr>\n",
       "      <th>4</th>\n",
       "      <td>ed359404-3d8a-4f3e-9d4e-38e6ef575254</td>\n",
       "      <td>258634</td>\n",
       "      <td>rupiyo</td>\n",
       "      <td>UP</td>\n",
       "      <td>NaN</td>\n",
       "      <td>152.58.129.31</td>\n",
       "      <td>IN</td>\n",
       "      <td>2024-10-21 15:52:12.762049+00:00</td>\n",
       "    </tr>\n",
       "    <tr>\n",
       "      <th>...</th>\n",
       "      <td>...</td>\n",
       "      <td>...</td>\n",
       "      <td>...</td>\n",
       "      <td>...</td>\n",
       "      <td>...</td>\n",
       "      <td>...</td>\n",
       "      <td>...</td>\n",
       "      <td>...</td>\n",
       "    </tr>\n",
       "    <tr>\n",
       "      <th>1048570</th>\n",
       "      <td>aa56ed51-6bde-4b4d-8e5d-65fe042384e8</td>\n",
       "      <td>258592</td>\n",
       "      <td>offerwall_1072</td>\n",
       "      <td>UP</td>\n",
       "      <td>NaN</td>\n",
       "      <td>59.152.120.116</td>\n",
       "      <td>IN</td>\n",
       "      <td>2024-10-19 15:27:34.559927+00:00</td>\n",
       "    </tr>\n",
       "    <tr>\n",
       "      <th>1048571</th>\n",
       "      <td>aa56ed51-6bde-4b4d-8e5d-65fe042384e8</td>\n",
       "      <td>258685</td>\n",
       "      <td>offerwall_1072</td>\n",
       "      <td>UP</td>\n",
       "      <td>NaN</td>\n",
       "      <td>152.59.108.155</td>\n",
       "      <td>IN</td>\n",
       "      <td>2024-10-19 16:11:17.710819+00:00</td>\n",
       "    </tr>\n",
       "    <tr>\n",
       "      <th>1048572</th>\n",
       "      <td>aa56ed51-6bde-4b4d-8e5d-65fe042384e8</td>\n",
       "      <td>259853</td>\n",
       "      <td>offerwall_1072</td>\n",
       "      <td>UP</td>\n",
       "      <td>NaN</td>\n",
       "      <td>103.242.189.33</td>\n",
       "      <td>IN</td>\n",
       "      <td>2024-10-21 06:01:57.872703+00:00</td>\n",
       "    </tr>\n",
       "    <tr>\n",
       "      <th>1048573</th>\n",
       "      <td>aa56ed51-6bde-4b4d-8e5d-65fe042384e8</td>\n",
       "      <td>257571</td>\n",
       "      <td>offerwall_1072</td>\n",
       "      <td>UP</td>\n",
       "      <td>NaN</td>\n",
       "      <td>103.242.189.33</td>\n",
       "      <td>IN</td>\n",
       "      <td>2024-10-21 06:02:14.090990+00:00</td>\n",
       "    </tr>\n",
       "    <tr>\n",
       "      <th>1048574</th>\n",
       "      <td>aa56ed51-6bde-4b4d-8e5d-65fe042384e8</td>\n",
       "      <td>252237</td>\n",
       "      <td>offerwall_1072</td>\n",
       "      <td>UP</td>\n",
       "      <td>NaN</td>\n",
       "      <td>47.11.192.151</td>\n",
       "      <td>IN</td>\n",
       "      <td>2024-10-21 08:33:21.359732+00:00</td>\n",
       "    </tr>\n",
       "  </tbody>\n",
       "</table>\n",
       "<p>1048575 rows × 8 columns</p>\n",
       "</div>"
      ],
      "text/plain": [
       "                                       adv_id  offer_id          app_id state  \\\n",
       "0        5ba99349-0e56-4a15-96d8-6708f21ae548    254610          rupiyo    UP   \n",
       "1        d016c006-f927-48bc-987d-40a2f3f4648b    258019          rupiyo    UP   \n",
       "2        d016c006-f927-48bc-987d-40a2f3f4648b    258634          rupiyo    UP   \n",
       "3        ed359404-3d8a-4f3e-9d4e-38e6ef575254    258019          rupiyo    UP   \n",
       "4        ed359404-3d8a-4f3e-9d4e-38e6ef575254    258634          rupiyo    UP   \n",
       "...                                       ...       ...             ...   ...   \n",
       "1048570  aa56ed51-6bde-4b4d-8e5d-65fe042384e8    258592  offerwall_1072    UP   \n",
       "1048571  aa56ed51-6bde-4b4d-8e5d-65fe042384e8    258685  offerwall_1072    UP   \n",
       "1048572  aa56ed51-6bde-4b4d-8e5d-65fe042384e8    259853  offerwall_1072    UP   \n",
       "1048573  aa56ed51-6bde-4b4d-8e5d-65fe042384e8    257571  offerwall_1072    UP   \n",
       "1048574  aa56ed51-6bde-4b4d-8e5d-65fe042384e8    252237  offerwall_1072    UP   \n",
       "\n",
       "        comment              ip country_code                        created_at  \n",
       "0           NaN  152.58.197.244           IN  2024-10-17 08:38:41.178855+00:00  \n",
       "1           NaN  152.59.191.187           IN  2024-10-20 03:50:17.578827+00:00  \n",
       "2           NaN   152.58.129.31           IN  2024-10-21 15:52:12.762049+00:00  \n",
       "3           NaN  152.59.191.187           IN  2024-10-20 03:50:17.578827+00:00  \n",
       "4           NaN   152.58.129.31           IN  2024-10-21 15:52:12.762049+00:00  \n",
       "...         ...             ...          ...                               ...  \n",
       "1048570     NaN  59.152.120.116           IN  2024-10-19 15:27:34.559927+00:00  \n",
       "1048571     NaN  152.59.108.155           IN  2024-10-19 16:11:17.710819+00:00  \n",
       "1048572     NaN  103.242.189.33           IN  2024-10-21 06:01:57.872703+00:00  \n",
       "1048573     NaN  103.242.189.33           IN  2024-10-21 06:02:14.090990+00:00  \n",
       "1048574     NaN   47.11.192.151           IN  2024-10-21 08:33:21.359732+00:00  \n",
       "\n",
       "[1048575 rows x 8 columns]"
      ]
     },
     "execution_count": 3,
     "metadata": {},
     "output_type": "execute_result"
    }
   ],
   "source": [
    "voting_df"
   ]
  },
  {
   "cell_type": "code",
   "execution_count": 4,
   "id": "41cf17ef",
   "metadata": {},
   "outputs": [],
   "source": [
    "voting_df['created_at']=pd.to_datetime(voting_df['created_at'])"
   ]
  },
  {
   "cell_type": "code",
   "execution_count": 5,
   "id": "42c1d7f6",
   "metadata": {},
   "outputs": [
    {
     "name": "stdout",
     "output_type": "stream",
     "text": [
      "<class 'pandas.core.frame.DataFrame'>\n",
      "RangeIndex: 1048575 entries, 0 to 1048574\n",
      "Data columns (total 8 columns):\n",
      " #   Column        Non-Null Count    Dtype              \n",
      "---  ------        --------------    -----              \n",
      " 0   adv_id        1048504 non-null  object             \n",
      " 1   offer_id      1048575 non-null  int64              \n",
      " 2   app_id        1048575 non-null  object             \n",
      " 3   state         1048575 non-null  object             \n",
      " 4   comment       46254 non-null    object             \n",
      " 5   ip            1048575 non-null  object             \n",
      " 6   country_code  1048575 non-null  object             \n",
      " 7   created_at    1048575 non-null  datetime64[ns, UTC]\n",
      "dtypes: datetime64[ns, UTC](1), int64(1), object(6)\n",
      "memory usage: 64.0+ MB\n"
     ]
    }
   ],
   "source": [
    "voting_df.info()"
   ]
  },
  {
   "cell_type": "markdown",
   "id": "9c802c8a",
   "metadata": {},
   "source": [
    "# 1. # Overall vote distribution"
   ]
  },
  {
   "cell_type": "code",
   "execution_count": 8,
   "id": "f5543269",
   "metadata": {},
   "outputs": [
    {
     "name": "stdout",
     "output_type": "stream",
     "text": [
      "\n",
      "Vote Distribution:\n",
      " UP      1002321\n",
      "DOWN      46254\n",
      "Name: state, dtype: int64\n"
     ]
    }
   ],
   "source": [
    "vote_counts = voting_df['state'].value_counts()\n",
    "print(\"\\nVote Distribution:\\n\", vote_counts)\n"
   ]
  },
  {
   "cell_type": "markdown",
   "id": "330dee4a",
   "metadata": {},
   "source": [
    "# 2. Top 10 offers with most UP votes"
   ]
  },
  {
   "cell_type": "code",
   "execution_count": 9,
   "id": "78de5702",
   "metadata": {},
   "outputs": [
    {
     "name": "stdout",
     "output_type": "stream",
     "text": [
      "\n",
      "Top 10 Offers by UP Votes:\n",
      " 254073    45538\n",
      "257862    33370\n",
      "257395    28886\n",
      "257392    18866\n",
      "257393    18685\n",
      "257394    16575\n",
      "258242    15649\n",
      "257219    15417\n",
      "258685    15269\n",
      "17817     15133\n",
      "Name: offer_id, dtype: int64\n"
     ]
    }
   ],
   "source": [
    "top_up_offers = voting_df[voting_df['state'] == 'UP']['offer_id'].value_counts().head(10)\n",
    "print(\"\\nTop 10 Offers by UP Votes:\\n\", top_up_offers)"
   ]
  },
  {
   "cell_type": "markdown",
   "id": "ba80953b",
   "metadata": {},
   "source": [
    "# 3. Top 10 offers with most DOWN votes"
   ]
  },
  {
   "cell_type": "code",
   "execution_count": 10,
   "id": "c38e7ef6",
   "metadata": {},
   "outputs": [
    {
     "name": "stdout",
     "output_type": "stream",
     "text": [
      "\n",
      "Top 10 Offers by DOWN Votes:\n",
      " 213491    5175\n",
      "257219    2993\n",
      "253427    1448\n",
      "256689    1425\n",
      "257863    1227\n",
      "257906    1134\n",
      "253506    1081\n",
      "256688     968\n",
      "254610     869\n",
      "257395     820\n",
      "Name: offer_id, dtype: int64\n"
     ]
    }
   ],
   "source": [
    "top_down_offers = voting_df[voting_df['state'] == 'DOWN']['offer_id'].value_counts().head(10)\n",
    "print(\"\\nTop 10 Offers by DOWN Votes:\\n\", top_down_offers)"
   ]
  },
  {
   "cell_type": "markdown",
   "id": "ea741637",
   "metadata": {},
   "source": [
    "# 4. Daily vote trend"
   ]
  },
  {
   "cell_type": "code",
   "execution_count": 12,
   "id": "c17dfa07",
   "metadata": {},
   "outputs": [
    {
     "name": "stdout",
     "output_type": "stream",
     "text": [
      "\n",
      "Daily VOtes:\n",
      " state        DOWN      UP\n",
      "created_at               \n",
      "2024-10-16   7194  200101\n",
      "2024-10-17  12297  240832\n",
      "2024-10-18   7320   94304\n",
      "2024-10-19   4670  119656\n",
      "2024-10-20   4365  106344\n",
      "2024-10-21   3261   66352\n",
      "2024-10-22   3819   78937\n",
      "2024-10-23   3328   95795\n"
     ]
    }
   ],
   "source": [
    "daily_votes = voting_df.groupby(voting_df['created_at'].dt.date)['state'].value_counts().unstack(fill_value=0)\n",
    "print(\"\\nDaily VOtes:\\n\",daily_votes)"
   ]
  },
  {
   "cell_type": "markdown",
   "id": "8f44d9d1",
   "metadata": {},
   "source": [
    "# 5. Upvote ratio per offer"
   ]
  },
  {
   "cell_type": "code",
   "execution_count": 13,
   "id": "f5cb264b",
   "metadata": {},
   "outputs": [],
   "source": [
    "offer_votes = voting_df.groupby('offer_id')['state'].value_counts().unstack(fill_value=0)\n",
    "offer_votes['upvote_ratio'] = offer_votes['UP'] / (offer_votes['UP'] + offer_votes['DOWN'])\n",
    "top_quality_offers = offer_votes.sort_values(by='upvote_ratio', ascending=False).head(10)\n",
    "low_quality_offers = offer_votes.sort_values(by='upvote_ratio', ascending=True).head(10)"
   ]
  },
  {
   "cell_type": "code",
   "execution_count": 14,
   "id": "2545bee5",
   "metadata": {},
   "outputs": [
    {
     "name": "stdout",
     "output_type": "stream",
     "text": [
      "\n",
      "Top 10 Offers by Upvote Ratio:\n",
      " offer_id\n",
      "5272      1.0\n",
      "258424    1.0\n",
      "231627    1.0\n",
      "231754    1.0\n",
      "232491    1.0\n",
      "233554    1.0\n",
      "258359    1.0\n",
      "258292    1.0\n",
      "233617    1.0\n",
      "233618    1.0\n",
      "Name: upvote_ratio, dtype: float64\n",
      "\n",
      "Bottom 10 Offers by Upvote Ratio:\n",
      " offer_id\n",
      "225439    0.0\n",
      "259245    0.0\n",
      "259236    0.0\n",
      "257816    0.0\n",
      "250399    0.0\n",
      "250401    0.0\n",
      "221340    0.0\n",
      "162737    0.0\n",
      "259249    0.0\n",
      "258525    0.0\n",
      "Name: upvote_ratio, dtype: float64\n"
     ]
    }
   ],
   "source": [
    "print(\"\\nTop 10 Offers by Upvote Ratio:\\n\", top_quality_offers['upvote_ratio'].round(2))\n",
    "print(\"\\nBottom 10 Offers by Upvote Ratio:\\n\", low_quality_offers['upvote_ratio'].round(2))"
   ]
  },
  {
   "cell_type": "markdown",
   "id": "fba370ca",
   "metadata": {},
   "source": [
    "# 7. Comment engagement rate"
   ]
  },
  {
   "cell_type": "code",
   "execution_count": 15,
   "id": "4a9d4fc5",
   "metadata": {},
   "outputs": [
    {
     "name": "stdout",
     "output_type": "stream",
     "text": [
      "\n",
      "Votes with Comments: 46254 (4.41%)\n"
     ]
    }
   ],
   "source": [
    "total_votes = len(voting_df)\n",
    "votes_with_comments = voting_df['comment'].notna().sum()\n",
    "comment_engagement_rate = (votes_with_comments / total_votes) * 100\n",
    "\n",
    "\n",
    "print(f\"\\nVotes with Comments: {votes_with_comments} ({round(comment_engagement_rate, 2)}%)\")"
   ]
  },
  {
   "cell_type": "markdown",
   "id": "672486d2",
   "metadata": {},
   "source": [
    "# 8. Users with multiple votes"
   ]
  },
  {
   "cell_type": "code",
   "execution_count": 16,
   "id": "f5c00b1b",
   "metadata": {},
   "outputs": [
    {
     "name": "stdout",
     "output_type": "stream",
     "text": [
      "\n",
      "Users with Multiple Votes: 100452\n"
     ]
    }
   ],
   "source": [
    "user_vote_counts = voting_df['adv_id'].value_counts()\n",
    "users_with_multiple_votes = (user_vote_counts > 1).sum()\n",
    "\n",
    "print(\"\\nUsers with Multiple Votes:\", users_with_multiple_votes)"
   ]
  },
  {
   "cell_type": "code",
   "execution_count": null,
   "id": "3f85df03",
   "metadata": {},
   "outputs": [],
   "source": []
  }
 ],
 "metadata": {
  "kernelspec": {
   "display_name": "Python 3 (ipykernel)",
   "language": "python",
   "name": "python3"
  },
  "language_info": {
   "codemirror_mode": {
    "name": "ipython",
    "version": 3
   },
   "file_extension": ".py",
   "mimetype": "text/x-python",
   "name": "python",
   "nbconvert_exporter": "python",
   "pygments_lexer": "ipython3",
   "version": "3.10.9"
  }
 },
 "nbformat": 4,
 "nbformat_minor": 5
}
