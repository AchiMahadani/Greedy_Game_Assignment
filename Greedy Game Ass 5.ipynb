{
 "cells": [
  {
   "cell_type": "code",
   "execution_count": 2,
   "id": "4c8975c4",
   "metadata": {},
   "outputs": [],
   "source": [
    "import pandas as pd\n",
    "import matplotlib.pyplot as plt\n",
    "import seaborn as sns\n"
   ]
  },
  {
   "cell_type": "code",
   "execution_count": 3,
   "id": "5c76a0d6",
   "metadata": {},
   "outputs": [],
   "source": [
    "login_df = pd.read_csv('6_1_bharatcash_overall_daily_login.csv')\n",
    "referral_df = pd.read_csv('6_2_from_referral_bharatcash.csv')\n",
    "ref_rev_df = pd.read_csv('6_3_rev_from_referral_bharatcash.csv')\n",
    "all_rev_df = pd.read_csv('6_4_rev_overall_bharatcash.csv')"
   ]
  },
  {
   "cell_type": "code",
   "execution_count": 10,
   "id": "82df393b",
   "metadata": {},
   "outputs": [
    {
     "name": "stdout",
     "output_type": "stream",
     "text": [
      "<class 'pandas.core.frame.DataFrame'>\n",
      "RangeIndex: 286240 entries, 0 to 286239\n",
      "Data columns (total 3 columns):\n",
      " #   Column  Non-Null Count   Dtype \n",
      "---  ------  --------------   ----- \n",
      " 0   adv_id  286190 non-null  object\n",
      " 1   app_id  286240 non-null  object\n",
      " 2   day     286240 non-null  object\n",
      "dtypes: object(3)\n",
      "memory usage: 6.6+ MB\n"
     ]
    }
   ],
   "source": [
    "login_df.info()"
   ]
  },
  {
   "cell_type": "code",
   "execution_count": 11,
   "id": "f8ec9329",
   "metadata": {},
   "outputs": [
    {
     "name": "stdout",
     "output_type": "stream",
     "text": [
      "<class 'pandas.core.frame.DataFrame'>\n",
      "RangeIndex: 41259 entries, 0 to 41258\n",
      "Data columns (total 2 columns):\n",
      " #   Column          Non-Null Count  Dtype \n",
      "---  ------          --------------  ----- \n",
      " 0   referre_adv_id  41256 non-null  object\n",
      " 1   created_at      41259 non-null  object\n",
      "dtypes: object(2)\n",
      "memory usage: 644.8+ KB\n"
     ]
    }
   ],
   "source": [
    "referral_df.info()"
   ]
  },
  {
   "cell_type": "code",
   "execution_count": 12,
   "id": "36e4a6ca",
   "metadata": {},
   "outputs": [
    {
     "name": "stdout",
     "output_type": "stream",
     "text": [
      "<class 'pandas.core.frame.DataFrame'>\n",
      "RangeIndex: 41469 entries, 0 to 41468\n",
      "Data columns (total 2 columns):\n",
      " #   Column          Non-Null Count  Dtype  \n",
      "---  ------          --------------  -----  \n",
      " 0   adv_id          41465 non-null  object \n",
      " 1   revenue_in_usd  41469 non-null  float64\n",
      "dtypes: float64(1), object(1)\n",
      "memory usage: 648.1+ KB\n"
     ]
    }
   ],
   "source": [
    "ref_rev_df.info()"
   ]
  },
  {
   "cell_type": "code",
   "execution_count": 14,
   "id": "eb371b21",
   "metadata": {},
   "outputs": [
    {
     "name": "stdout",
     "output_type": "stream",
     "text": [
      "<class 'pandas.core.frame.DataFrame'>\n",
      "RangeIndex: 220612 entries, 0 to 220611\n",
      "Data columns (total 3 columns):\n",
      " #   Column          Non-Null Count   Dtype  \n",
      "---  ------          --------------   -----  \n",
      " 0   adv_id          220580 non-null  object \n",
      " 1   revenue_in_usd  220612 non-null  float64\n",
      " 2   user_type       220612 non-null  object \n",
      "dtypes: float64(1), object(2)\n",
      "memory usage: 5.0+ MB\n"
     ]
    }
   ],
   "source": [
    "all_rev_df.info()"
   ]
  },
  {
   "cell_type": "code",
   "execution_count": 15,
   "id": "60be5d7c",
   "metadata": {},
   "outputs": [],
   "source": [
    "referred_users = set(referral_df['referre_adv_id'])"
   ]
  },
  {
   "cell_type": "code",
   "execution_count": 16,
   "id": "ee00d4d1",
   "metadata": {},
   "outputs": [],
   "source": [
    "all_rev_df['user_type'] = all_rev_df['adv_id'].apply(lambda x: 'Referred' if x in referred_users else 'Non-Referred')"
   ]
  },
  {
   "cell_type": "code",
   "execution_count": 17,
   "id": "014c3afb",
   "metadata": {},
   "outputs": [],
   "source": [
    "rpu_df = all_rev_df.groupby('user_type')['revenue_in_usd'].agg(['sum', 'count']).reset_index()"
   ]
  },
  {
   "cell_type": "code",
   "execution_count": 18,
   "id": "a7a47035",
   "metadata": {},
   "outputs": [],
   "source": [
    "rpu_df['RPU'] = rpu_df['sum'] / rpu_df['count']"
   ]
  },
  {
   "cell_type": "code",
   "execution_count": 19,
   "id": "dc03f882",
   "metadata": {},
   "outputs": [
    {
     "name": "stdout",
     "output_type": "stream",
     "text": [
      "      user_type       RPU\n",
      "0  Non-Referred  0.402418\n",
      "1      Referred  0.203959\n"
     ]
    }
   ],
   "source": [
    "print(rpu_df[['user_type', 'RPU']])"
   ]
  },
  {
   "cell_type": "code",
   "execution_count": 20,
   "id": "b4f26c0b",
   "metadata": {},
   "outputs": [
    {
     "data": {
      "image/png": "[encoded data removed]",
      "text/plain": [
       "<Figure size 800x500 with 1 Axes>"
      ]
     },
     "metadata": {},
     "output_type": "display_data"
    }
   ],
   "source": [
    "plt.figure(figsize=(8, 5))\n",
    "sns.barplot(data=rpu_df, x='user_type', y='RPU', palette='Set2')\n",
    "plt.title('Revenue Per User (RPU): Referred vs Non-Referred')\n",
    "plt.ylabel('Revenue Per User ($)')\n",
    "plt.xlabel('User Type')\n",
    "plt.grid(axis='y')\n",
    "plt.tight_layout()\n",
    "plt.show()"
   ]
  },
  {
   "cell_type": "markdown",
   "id": "14efc608",
   "metadata": {},
   "source": [
    "# Assumptions Made:\n",
    "Users in referre_adv_id are treated as referred users.\n",
    "\n",
    "Revenue is linked to users via adv_id only.\n",
    "\n",
    "RPU is calculated only for users with available revenue data.\n",
    "\n",
    "Revenue is assumed to be in USD and directly comparable.\n",
    "\n",
    "Each user has one cumulative revenue entry.\n",
    "\n",
    "Analysis focuses only on revenue, not user engagement or retention."
   ]
  },
  {
   "cell_type": "code",
   "execution_count": null,
   "id": "3250c874",
   "metadata": {},
   "outputs": [],
   "source": []
  }
 ],
 "metadata": {
  "kernelspec": {
   "display_name": "Python 3 (ipykernel)",
   "language": "python",
   "name": "python3"
  },
  "language_info": {
   "codemirror_mode": {
    "name": "ipython",
    "version": 3
   },
   "file_extension": ".py",
   "mimetype": "text/x-python",
   "name": "python",
   "nbconvert_exporter": "python",
   "pygments_lexer": "ipython3",
   "version": "3.10.9"
  }
 },
 "nbformat": 4,
 "nbformat_minor": 5
}
