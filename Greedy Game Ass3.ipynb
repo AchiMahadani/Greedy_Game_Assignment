{
 "cells": [
  {
   "cell_type": "code",
   "execution_count": 5,
   "id": "3c2ce3f9",
   "metadata": {},
   "outputs": [],
   "source": [
    "\n",
    "import pandas as pd\n",
    "from scipy.stats import zscore"
   ]
  },
  {
   "cell_type": "code",
   "execution_count": 6,
   "id": "91f8953c",
   "metadata": {},
   "outputs": [],
   "source": [
    "wallet_df = pd.read_csv('3_wallet_data.csv')\n",
    "wallet_df = wallet_df.dropna(subset=['adv_id'])\n",
    "wallet_df['created_at'] = pd.to_datetime(wallet_df['created_at'])\n",
    "wallet_df['date'] = wallet_df['created_at'].dt.date"
   ]
  },
  {
   "cell_type": "code",
   "execution_count": 7,
   "id": "96835481",
   "metadata": {},
   "outputs": [
    {
     "data": {
      "text/html": [
       "<div>\n",
       "<style scoped>\n",
       "    .dataframe tbody tr th:only-of-type {\n",
       "        vertical-align: middle;\n",
       "    }\n",
       "\n",
       "    .dataframe tbody tr th {\n",
       "        vertical-align: top;\n",
       "    }\n",
       "\n",
       "    .dataframe thead th {\n",
       "        text-align: right;\n",
       "    }\n",
       "</style>\n",
       "<table border=\"1\" class=\"dataframe\">\n",
       "  <thead>\n",
       "    <tr style=\"text-align: right;\">\n",
       "      <th></th>\n",
       "      <th>adv_id</th>\n",
       "      <th>transaction_type</th>\n",
       "      <th>value</th>\n",
       "      <th>currency</th>\n",
       "      <th>source_entity_type</th>\n",
       "      <th>created_at</th>\n",
       "      <th>date</th>\n",
       "    </tr>\n",
       "  </thead>\n",
       "  <tbody>\n",
       "    <tr>\n",
       "      <th>0</th>\n",
       "      <td>d016c006-f927-48bc-987d-40a2f3f4648b</td>\n",
       "      <td>DEBIT</td>\n",
       "      <td>1.01</td>\n",
       "      <td>rupiyo_token</td>\n",
       "      <td>OFFER_REWARD</td>\n",
       "      <td>2024-10-21 15:48:09.797749+00:00</td>\n",
       "      <td>2024-10-21</td>\n",
       "    </tr>\n",
       "    <tr>\n",
       "      <th>1</th>\n",
       "      <td>d016c006-f927-48bc-987d-40a2f3f4648b</td>\n",
       "      <td>DEBIT</td>\n",
       "      <td>0.02</td>\n",
       "      <td>rupiyo_token</td>\n",
       "      <td>DAILY_CHECKIN</td>\n",
       "      <td>2024-10-21 15:48:22.378338+00:00</td>\n",
       "      <td>2024-10-21</td>\n",
       "    </tr>\n",
       "    <tr>\n",
       "      <th>2</th>\n",
       "      <td>d016c006-f927-48bc-987d-40a2f3f4648b</td>\n",
       "      <td>DEBIT</td>\n",
       "      <td>0.05</td>\n",
       "      <td>rupiyo_token</td>\n",
       "      <td>DAILY_CHECKIN</td>\n",
       "      <td>2024-10-22 02:52:52.695171+00:00</td>\n",
       "      <td>2024-10-22</td>\n",
       "    </tr>\n",
       "    <tr>\n",
       "      <th>3</th>\n",
       "      <td>d016c006-f927-48bc-987d-40a2f3f4648b</td>\n",
       "      <td>DEBIT</td>\n",
       "      <td>0.10</td>\n",
       "      <td>rupiyo_token</td>\n",
       "      <td>DAILY_CHECKIN</td>\n",
       "      <td>2024-10-23 03:08:36.180386+00:00</td>\n",
       "      <td>2024-10-23</td>\n",
       "    </tr>\n",
       "    <tr>\n",
       "      <th>4</th>\n",
       "      <td>ed359404-3d8a-4f3e-9d4e-38e6ef575254</td>\n",
       "      <td>DEBIT</td>\n",
       "      <td>1.01</td>\n",
       "      <td>rupiyo_token</td>\n",
       "      <td>OFFER_REWARD</td>\n",
       "      <td>2024-10-21 15:48:09.797749+00:00</td>\n",
       "      <td>2024-10-21</td>\n",
       "    </tr>\n",
       "    <tr>\n",
       "      <th>...</th>\n",
       "      <td>...</td>\n",
       "      <td>...</td>\n",
       "      <td>...</td>\n",
       "      <td>...</td>\n",
       "      <td>...</td>\n",
       "      <td>...</td>\n",
       "      <td>...</td>\n",
       "    </tr>\n",
       "    <tr>\n",
       "      <th>1048570</th>\n",
       "      <td>e34d3a11-d084-4a6c-8df9-10ca1ad1abe1</td>\n",
       "      <td>DEBIT</td>\n",
       "      <td>208.00</td>\n",
       "      <td>offerwall_325</td>\n",
       "      <td>OFFER_REWARD</td>\n",
       "      <td>2024-10-17 05:11:16.344721+00:00</td>\n",
       "      <td>2024-10-17</td>\n",
       "    </tr>\n",
       "    <tr>\n",
       "      <th>1048571</th>\n",
       "      <td>3113e39c-881d-421f-862f-7131aa82af22</td>\n",
       "      <td>DEBIT</td>\n",
       "      <td>208.00</td>\n",
       "      <td>offerwall_325</td>\n",
       "      <td>OFFER_REWARD</td>\n",
       "      <td>2024-10-17 05:11:16.344721+00:00</td>\n",
       "      <td>2024-10-17</td>\n",
       "    </tr>\n",
       "    <tr>\n",
       "      <th>1048572</th>\n",
       "      <td>f4d1a817-1d85-4dc6-aa64-92f1a7cb50fc</td>\n",
       "      <td>DEBIT</td>\n",
       "      <td>208.00</td>\n",
       "      <td>offerwall_325</td>\n",
       "      <td>OFFER_REWARD</td>\n",
       "      <td>2024-10-17 05:11:16.344721+00:00</td>\n",
       "      <td>2024-10-17</td>\n",
       "    </tr>\n",
       "    <tr>\n",
       "      <th>1048573</th>\n",
       "      <td>75057402-2843-4003-a682-ee831cf68c75</td>\n",
       "      <td>DEBIT</td>\n",
       "      <td>208.00</td>\n",
       "      <td>offerwall_325</td>\n",
       "      <td>OFFER_REWARD</td>\n",
       "      <td>2024-10-17 05:11:16.344721+00:00</td>\n",
       "      <td>2024-10-17</td>\n",
       "    </tr>\n",
       "    <tr>\n",
       "      <th>1048574</th>\n",
       "      <td>1efec8d0-ed42-42af-beb2-a55467202b87</td>\n",
       "      <td>DEBIT</td>\n",
       "      <td>208.00</td>\n",
       "      <td>offerwall_325</td>\n",
       "      <td>OFFER_REWARD</td>\n",
       "      <td>2024-10-17 05:11:16.344721+00:00</td>\n",
       "      <td>2024-10-17</td>\n",
       "    </tr>\n",
       "  </tbody>\n",
       "</table>\n",
       "<p>1047979 rows × 7 columns</p>\n",
       "</div>"
      ],
      "text/plain": [
       "                                       adv_id transaction_type   value  \\\n",
       "0        d016c006-f927-48bc-987d-40a2f3f4648b            DEBIT    1.01   \n",
       "1        d016c006-f927-48bc-987d-40a2f3f4648b            DEBIT    0.02   \n",
       "2        d016c006-f927-48bc-987d-40a2f3f4648b            DEBIT    0.05   \n",
       "3        d016c006-f927-48bc-987d-40a2f3f4648b            DEBIT    0.10   \n",
       "4        ed359404-3d8a-4f3e-9d4e-38e6ef575254            DEBIT    1.01   \n",
       "...                                       ...              ...     ...   \n",
       "1048570  e34d3a11-d084-4a6c-8df9-10ca1ad1abe1            DEBIT  208.00   \n",
       "1048571  3113e39c-881d-421f-862f-7131aa82af22            DEBIT  208.00   \n",
       "1048572  f4d1a817-1d85-4dc6-aa64-92f1a7cb50fc            DEBIT  208.00   \n",
       "1048573  75057402-2843-4003-a682-ee831cf68c75            DEBIT  208.00   \n",
       "1048574  1efec8d0-ed42-42af-beb2-a55467202b87            DEBIT  208.00   \n",
       "\n",
       "              currency source_entity_type                       created_at  \\\n",
       "0         rupiyo_token       OFFER_REWARD 2024-10-21 15:48:09.797749+00:00   \n",
       "1         rupiyo_token      DAILY_CHECKIN 2024-10-21 15:48:22.378338+00:00   \n",
       "2         rupiyo_token      DAILY_CHECKIN 2024-10-22 02:52:52.695171+00:00   \n",
       "3         rupiyo_token      DAILY_CHECKIN 2024-10-23 03:08:36.180386+00:00   \n",
       "4         rupiyo_token       OFFER_REWARD 2024-10-21 15:48:09.797749+00:00   \n",
       "...                ...                ...                              ...   \n",
       "1048570  offerwall_325       OFFER_REWARD 2024-10-17 05:11:16.344721+00:00   \n",
       "1048571  offerwall_325       OFFER_REWARD 2024-10-17 05:11:16.344721+00:00   \n",
       "1048572  offerwall_325       OFFER_REWARD 2024-10-17 05:11:16.344721+00:00   \n",
       "1048573  offerwall_325       OFFER_REWARD 2024-10-17 05:11:16.344721+00:00   \n",
       "1048574  offerwall_325       OFFER_REWARD 2024-10-17 05:11:16.344721+00:00   \n",
       "\n",
       "               date  \n",
       "0        2024-10-21  \n",
       "1        2024-10-21  \n",
       "2        2024-10-22  \n",
       "3        2024-10-23  \n",
       "4        2024-10-21  \n",
       "...             ...  \n",
       "1048570  2024-10-17  \n",
       "1048571  2024-10-17  \n",
       "1048572  2024-10-17  \n",
       "1048573  2024-10-17  \n",
       "1048574  2024-10-17  \n",
       "\n",
       "[1047979 rows x 7 columns]"
      ]
     },
     "execution_count": 7,
     "metadata": {},
     "output_type": "execute_result"
    }
   ],
   "source": [
    "wallet_df"
   ]
  },
  {
   "cell_type": "code",
   "execution_count": 8,
   "id": "493ee049",
   "metadata": {},
   "outputs": [
    {
     "name": "stdout",
     "output_type": "stream",
     "text": [
      "<class 'pandas.core.frame.DataFrame'>\n",
      "Int64Index: 1047979 entries, 0 to 1048574\n",
      "Data columns (total 7 columns):\n",
      " #   Column              Non-Null Count    Dtype              \n",
      "---  ------              --------------    -----              \n",
      " 0   adv_id              1047979 non-null  object             \n",
      " 1   transaction_type    1047979 non-null  object             \n",
      " 2   value               1047979 non-null  float64            \n",
      " 3   currency            1047979 non-null  object             \n",
      " 4   source_entity_type  1047979 non-null  object             \n",
      " 5   created_at          1047979 non-null  datetime64[ns, UTC]\n",
      " 6   date                1047979 non-null  object             \n",
      "dtypes: datetime64[ns, UTC](1), float64(1), object(5)\n",
      "memory usage: 64.0+ MB\n"
     ]
    }
   ],
   "source": [
    "wallet_df.info()"
   ]
  },
  {
   "cell_type": "code",
   "execution_count": 9,
   "id": "330d31ce",
   "metadata": {},
   "outputs": [],
   "source": [
    "debit_df = wallet_df[wallet_df['transaction_type'] == 'DEBIT']\n",
    "credit_df = wallet_df[wallet_df['transaction_type'] == 'CREDIT']"
   ]
  },
  {
   "cell_type": "code",
   "execution_count": 10,
   "id": "2c5459c9",
   "metadata": {},
   "outputs": [],
   "source": [
    "debit_stats = debit_df.groupby('adv_id').agg(\n",
    "    total_debit_value=('value', 'sum'),\n",
    "    debit_count=('value', 'count')\n",
    ")"
   ]
  },
  {
   "cell_type": "code",
   "execution_count": 11,
   "id": "207e6748",
   "metadata": {},
   "outputs": [],
   "source": [
    "credit_stats = credit_df.groupby('adv_id').agg(\n",
    "    total_credit_value=('value', 'sum'),\n",
    "    credit_count=('value', 'count')\n",
    ")"
   ]
  },
  {
   "cell_type": "code",
   "execution_count": 12,
   "id": "8f306289",
   "metadata": {},
   "outputs": [],
   "source": [
    "activity_stats = wallet_df.groupby('adv_id').agg(\n",
    "    active_days=('date', lambda x: x.nunique()),\n",
    "    total_txns=('value', 'count')\n",
    ")"
   ]
  },
  {
   "cell_type": "code",
   "execution_count": 13,
   "id": "4ea47896",
   "metadata": {},
   "outputs": [],
   "source": [
    "user_stats = debit_stats.join(credit_stats, how='outer').join(activity_stats, how='outer').fillna(0)\n"
   ]
  },
  {
   "cell_type": "code",
   "execution_count": 14,
   "id": "20f27773",
   "metadata": {},
   "outputs": [],
   "source": [
    "user_stats['txn_per_day'] = user_stats['total_txns'] / (user_stats['active_days'] + 1e-5)\n",
    "user_stats['credit_debit_ratio'] = user_stats['total_credit_value'] / (user_stats['total_debit_value'] + 1e-5)"
   ]
  },
  {
   "cell_type": "code",
   "execution_count": 15,
   "id": "2ac6feff",
   "metadata": {},
   "outputs": [],
   "source": [
    "z_scores = user_stats[['total_debit_value', 'total_credit_value', 'debit_count', 'credit_count', 'txn_per_day', 'credit_debit_ratio']].apply(zscore)"
   ]
  },
  {
   "cell_type": "code",
   "execution_count": 16,
   "id": "01a7eca4",
   "metadata": {},
   "outputs": [],
   "source": [
    "anomalous_users = z_scores[(z_scores.abs() > 3).any(axis=1)]"
   ]
  },
  {
   "cell_type": "code",
   "execution_count": 17,
   "id": "9f0da3a8",
   "metadata": {},
   "outputs": [
    {
     "name": "stdout",
     "output_type": "stream",
     "text": [
      "Number of anomalous users: 3491\n",
      "                                      total_debit_value  total_credit_value  \\\n",
      "adv_id                                                                        \n",
      "0000-0000                                      0.105740                 NaN   \n",
      "00000000-0000-0000-0000-000000000000           0.480245                 NaN   \n",
      "000aa241-f1d9-45ed-8f6d-980100059643           0.146295                 NaN   \n",
      "00111b7f-5eb1-4713-804c-14903398e1ba           1.302704                 NaN   \n",
      "00339774-b95f-4c78-9639-7566f33c01ba          -0.075609                 NaN   \n",
      "\n",
      "                                      debit_count  credit_count  txn_per_day  \\\n",
      "adv_id                                                                         \n",
      "0000-0000                                6.345583           NaN     4.153366   \n",
      "00000000-0000-0000-0000-000000000000    67.758775           NaN    49.587964   \n",
      "000aa241-f1d9-45ed-8f6d-980100059643     3.104781           NaN     2.149653   \n",
      "00111b7f-5eb1-4713-804c-14903398e1ba     5.859462           NaN     6.670844   \n",
      "00339774-b95f-4c78-9639-7566f33c01ba     3.833961           NaN     2.295223   \n",
      "\n",
      "                                      credit_debit_ratio  \n",
      "adv_id                                                    \n",
      "0000-0000                                            NaN  \n",
      "00000000-0000-0000-0000-000000000000                 NaN  \n",
      "000aa241-f1d9-45ed-8f6d-980100059643                 NaN  \n",
      "00111b7f-5eb1-4713-804c-14903398e1ba                 NaN  \n",
      "00339774-b95f-4c78-9639-7566f33c01ba                 NaN  \n"
     ]
    }
   ],
   "source": [
    "print(f\"Number of anomalous users: {len(anomalous_users)}\")\n",
    "print(anomalous_users.head())"
   ]
  },
  {
   "cell_type": "markdown",
   "id": "6c3b3986",
   "metadata": {},
   "source": [
    "# Assumptions Made\n",
    "Only valid user IDs (adv_id) are analyzed.\n",
    "\n",
    "All transaction types and currencies are considered; no filtering applied.\n",
    "\n",
    "Outliers are detected using Z-score threshold > 3 or < -3.\n",
    "\n",
    "Anomalies indicate unusual behavior, potentially fraudulent.\n",
    "\n",
    "CREDIT = user pays GreedyGame, DEBIT = user earns from GreedyGame.\n",
    "\n",
    "Transaction frequency is based on total transactions / active days.\n",
    "\n",
    "No time zone adjustments assumed in timestamps."
   ]
  },
  {
   "cell_type": "code",
   "execution_count": null,
   "id": "d94ced4a",
   "metadata": {},
   "outputs": [],
   "source": []
  }
 ],
 "metadata": {
  "kernelspec": {
   "display_name": "Python 3 (ipykernel)",
   "language": "python",
   "name": "python3"
  },
  "language_info": {
   "codemirror_mode": {
    "name": "ipython",
    "version": 3
   },
   "file_extension": ".py",
   "mimetype": "text/x-python",
   "name": "python",
   "nbconvert_exporter": "python",
   "pygments_lexer": "ipython3",
   "version": "3.10.9"
  }
 },
 "nbformat": 4,
 "nbformat_minor": 5
}
