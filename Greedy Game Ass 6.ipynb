{
 "cells": [
  {
   "cell_type": "code",
   "execution_count": 1,
   "id": "98af86c9",
   "metadata": {},
   "outputs": [],
   "source": [
    "import pandas as pd"
   ]
  },
  {
   "cell_type": "code",
   "execution_count": 2,
   "id": "989ae932",
   "metadata": {},
   "outputs": [],
   "source": [
    "clicks_country_df = pd.read_csv(\"7_1_clicks_country.csv\")\n",
    "clicks_df = pd.read_csv(\"7_2_clicks.csv\")\n",
    "signup_df = pd.read_csv(\"7_4_user_signup_location.csv\")"
   ]
  },
  {
   "cell_type": "code",
   "execution_count": 3,
   "id": "cd4c9fa5",
   "metadata": {},
   "outputs": [],
   "source": [
    "clicks_merged = clicks_df.merge(clicks_country_df, on=\"click_id\", how=\"left\")"
   ]
  },
  {
   "cell_type": "code",
   "execution_count": 7,
   "id": "4513848e",
   "metadata": {},
   "outputs": [],
   "source": [
    "merged_df = clicks_merged.merge(signup_df, on=\"adv_id\", how=\"left\", suffixes=('_click', '_signup'))"
   ]
  },
  {
   "cell_type": "code",
   "execution_count": 8,
   "id": "0a37947a",
   "metadata": {},
   "outputs": [],
   "source": [
    "discrepancies = merged_df[\n",
    "    merged_df['country_code_click'].notna() &\n",
    "    merged_df['country_code_signup'].notna() &\n",
    "    (merged_df['country_code_click'] != merged_df['country_code_signup'])\n",
    "]"
   ]
  },
  {
   "cell_type": "code",
   "execution_count": 9,
   "id": "63ed00ed",
   "metadata": {},
   "outputs": [],
   "source": [
    "discrepancies.to_csv(\"discrepant_users_by_country_code.csv\", index=False)"
   ]
  },
  {
   "cell_type": "markdown",
   "id": "06cf2181",
   "metadata": {},
   "source": [
    "# Assumptions Made\n",
    "adv_id uniquely identifies a user.\n",
    "\n",
    "All comparisons are based on this as the user ID.\n",
    "\n",
    "Only clicks with valid country_code_click and country_code_signup are considered.\n",
    "\n",
    "Rows with missing country codes are ignored.\n",
    "\n",
    "Mismatch in country codes indicates a potential discrepancy.\n",
    "\n",
    "No distinction is made for acceptable cases (e.g., VPN, travel, etc.).\n",
    "\n",
    "Each click is treated independently.\n",
    "\n",
    "Even if one click is from a different country, it’s flagged — no threshold or tolerance is applied."
   ]
  },
  {
   "cell_type": "code",
   "execution_count": null,
   "id": "506b2b73",
   "metadata": {},
   "outputs": [],
   "source": []
  }
 ],
 "metadata": {
  "kernelspec": {
   "display_name": "Python 3 (ipykernel)",
   "language": "python",
   "name": "python3"
  },
  "language_info": {
   "codemirror_mode": {
    "name": "ipython",
    "version": 3
   },
   "file_extension": ".py",
   "mimetype": "text/x-python",
   "name": "python",
   "nbconvert_exporter": "python",
   "pygments_lexer": "ipython3",
   "version": "3.10.9"
  }
 },
 "nbformat": 4,
 "nbformat_minor": 5
}
